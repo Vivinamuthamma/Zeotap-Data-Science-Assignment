{
 "cells": [
  {
   "cell_type": "code",
   "execution_count": 2,
   "id": "3c0ffc67",
   "metadata": {},
   "outputs": [],
   "source": [
    "import pandas as pd\n",
    "from sklearn.metrics.pairwise import cosine_similarity\n",
    "from sklearn.preprocessing import StandardScaler"
   ]
  },
  {
   "cell_type": "code",
   "execution_count": 5,
   "id": "b18b5867",
   "metadata": {},
   "outputs": [],
   "source": [
    "customers = pd.read_csv(r\"C:\\Users\\VIVINA MUTH\\Desktop\\Customers.csv\")\n",
    "products = pd.read_csv(r\"C:\\Users\\VIVINA MUTH\\Desktop\\Products.csv\")\n",
    "trending_products = pd.read_csv(r\"C:\\Users\\VIVINA MUTH\\Desktop\\trending_products.csv\")"
   ]
  },
  {
   "cell_type": "code",
   "execution_count": 13,
   "id": "b5443a75",
   "metadata": {},
   "outputs": [],
   "source": [
    "# --- Preprocessing ---\n",
    "# Aggregate transaction data\n",
    "transaction_features = trending_products.groupby('ProductID').agg(\n",
    "    TotalSpend=('ReviewCount', 'sum'),\n",
    "    TotalQuantity=('Brand', 'sum'),\n",
    "    NumTransactions=('ImageURL', 'count')\n",
    ").reset_index()"
   ]
  },
  {
   "cell_type": "code",
   "execution_count": 18,
   "id": "6a025f14",
   "metadata": {},
   "outputs": [],
   "source": [
    "customer_ids = customers['CustomerID'].values\n",
    "transaction_dict = transaction_features.set_index('ProductID').to_dict(orient='index')"
   ]
  },
  {
   "cell_type": "code",
   "execution_count": 19,
   "id": "d93af9d2",
   "metadata": {},
   "outputs": [],
   "source": [
    "# Initialize empty columns for transaction data\n",
    "customers['TotalSpend'] = 0\n",
    "customers['TotalQuantity'] = 0\n",
    "customers['NumTransactions'] = 0"
   ]
  },
  {
   "cell_type": "code",
   "execution_count": 20,
   "id": "73683128",
   "metadata": {},
   "outputs": [],
   "source": [
    "# Manually map aggregated transaction data to customer data\n",
    "for idx, customer_id in enumerate(customer_ids):\n",
    "    if customer_id in transaction_dict:\n",
    "        customers.loc[idx, 'TotalSpend'] = transaction_dict[customer_id]['TotalSpend']\n",
    "        customers.loc[idx, 'TotalQuantity'] = transaction_dict[customer_id]['TotalQuantity']\n",
    "        customers.loc[idx, 'NumTransactions'] = transaction_dict[customer_id]['NumTransactions']\n"
   ]
  },
  {
   "cell_type": "code",
   "execution_count": 22,
   "id": "25dbfaa9",
   "metadata": {},
   "outputs": [],
   "source": [
    "# Import LabelEncoder from sklearn\n",
    "from sklearn.preprocessing import LabelEncoder\n",
    "\n",
    "# Encode categorical features (e.g., Region)\n",
    "encoder = LabelEncoder()\n",
    "customers['RegionEncoded'] = encoder.fit_transform(customers['Region'])"
   ]
  },
  {
   "cell_type": "code",
   "execution_count": 23,
   "id": "a4517064",
   "metadata": {},
   "outputs": [],
   "source": [
    "# Select features for similarity calculation\n",
    "features = ['TotalSpend', 'TotalQuantity', 'NumTransactions', 'RegionEncoded']\n",
    "X = customers[features]"
   ]
  },
  {
   "cell_type": "code",
   "execution_count": 24,
   "id": "6b442c40",
   "metadata": {},
   "outputs": [],
   "source": [
    "# Normalize numerical features\n",
    "scaler = StandardScaler()\n",
    "X_scaled = scaler.fit_transform(X)"
   ]
  },
  {
   "cell_type": "code",
   "execution_count": 26,
   "id": "e94a01a9",
   "metadata": {},
   "outputs": [],
   "source": [
    "# --- Similarity Calculation ---\n",
    "# Compute cosine similarity\n",
    "similarity_matrix = cosine_similarity(X_scaled)"
   ]
  },
  {
   "cell_type": "code",
   "execution_count": 27,
   "id": "0e92bc08",
   "metadata": {},
   "outputs": [],
   "source": [
    "# Create a DataFrame for similarity\n",
    "similarity_df = pd.DataFrame(similarity_matrix, index=customers['CustomerID'], columns=customers['CustomerID'])"
   ]
  },
  {
   "cell_type": "code",
   "execution_count": 28,
   "id": "cbed3d7c",
   "metadata": {},
   "outputs": [],
   "source": [
    "# --- Find Top 3 Lookalikes ---\n",
    "lookalikes = {}\n",
    "\n",
    "for customer_id in customers['CustomerID'][:20]:  # First 20 customers (C0001 - C0020)\n",
    "    # Get similarity scores for the current customer\n",
    "    similar_customers = similarity_df[customer_id].sort_values(ascending=False)[1:4]  # Top 3 excluding self\n",
    "    lookalikes[customer_id] = [(sim_id, score) for sim_id, score in similar_customers.items()]\n",
    "\n",
    "# Convert lookalikes dictionary to a DataFrame\n",
    "lookalike_df = pd.DataFrame({\n",
    "    'CustomerID': lookalikes.keys(),\n",
    "    'Lookalikes': [str(lookalikes[customer]) for customer in lookalikes.keys()]\n",
    "})"
   ]
  },
  {
   "cell_type": "code",
   "execution_count": 29,
   "id": "877b2213",
   "metadata": {},
   "outputs": [
    {
     "name": "stdout",
     "output_type": "stream",
     "text": [
      "Lookalike.csv has been created!\n"
     ]
    }
   ],
   "source": [
    "# Save to CSV\n",
    "lookalike_df.to_csv('Lookalike.csv', index=False)\n",
    "print(\"Lookalike.csv has been created!\")"
   ]
  }
 ],
 "metadata": {
  "kernelspec": {
   "display_name": "Python 3 (ipykernel)",
   "language": "python",
   "name": "python3"
  },
  "language_info": {
   "codemirror_mode": {
    "name": "ipython",
    "version": 3
   },
   "file_extension": ".py",
   "mimetype": "text/x-python",
   "name": "python",
   "nbconvert_exporter": "python",
   "pygments_lexer": "ipython3",
   "version": "3.11.4"
  }
 },
 "nbformat": 4,
 "nbformat_minor": 5
}
